{
 "cells": [
  {
   "cell_type": "code",
   "execution_count": 6,
   "id": "c441ad38",
   "metadata": {},
   "outputs": [],
   "source": [
    "import time\n",
    "from selenium import webdriver\n",
    "from selenium.webdriver.chrome.service import Service as ChromeService\n",
    "from selenium.webdriver.common.by import By\n",
    "from selenium.webdriver.common.keys import Keys\n",
    "from bs4 import BeautifulSoup\n",
    "import csv"
   ]
  },
  {
   "cell_type": "code",
   "execution_count": 7,
   "id": "08c031f2",
   "metadata": {},
   "outputs": [],
   "source": [
    "# 웹페이지 접속하기\n",
    "driver = webdriver.Chrome()\n",
    "driver.get(\"https://www.kcsc.re.kr/\")\n",
    "time.sleep(3)"
   ]
  },
  {
   "cell_type": "code",
   "execution_count": 10,
   "id": "a8ec8048",
   "metadata": {},
   "outputs": [],
   "source": [
    "# 웹페이지에 있는 검색창에 텍스트 입력하고 Enter\n",
    "elements_1 = driver.find_elements(by=By.NAME, value=\"searchTxt\")\n",
    "if elements_1:\n",
    "    search_box = elements_1[0]\n",
    "    search_box.send_keys('KCS 21 30 00')\n",
    "    search_box.send_keys(Keys.ENTER)\n",
    "else:\n",
    "    print(\"요소를 찾을 수 없습니다.\")\n",
    "\n",
    "#이까지는 성공했는데.. 요소에 있는 txt를 출력해서 검색어랑 비교 후 일치하게 되면 특정 버튼을 클릭하게 하는 코드를 못 짜겠음"
   ]
  },
  {
   "cell_type": "code",
   "execution_count": 11,
   "id": "b3e45999",
   "metadata": {},
   "outputs": [],
   "source": [
    "# 새로 들어간 페이지에서 '내용보기' 버튼 클릭하기\n",
    "button_xpath = '//*[@id=\"scope-search\"]/div[1]/div[2]/div[3]/table/tbody/tr/td[4]/a'  # 버튼의 XPath 입력\n",
    "try:\n",
    "    button_element = driver.find_element(By.XPATH, button_xpath)\n",
    "    button_element.click()\n",
    "except:\n",
    "    print(\"버튼을 찾을 수 없거나 클릭할 수 없습니다.\")\n",
    "    \n",
    "# 이렇게 짜게되면 키워드로 검색된 결과가 무조건 맞다고 생각하고 내용보기 버튼을 클릭하는 것(오류가 좀 있음)"
   ]
  },
  {
   "cell_type": "code",
   "execution_count": 5,
   "id": "e8f52e24",
   "metadata": {},
   "outputs": [
    {
     "name": "stdout",
     "output_type": "stream",
     "text": [
      "https://www.kcsc.re.kr/StandardCode/Viewer/40448/KCS%2041%2033%2001\n"
     ]
    }
   ],
   "source": [
    "# 새롭게 들어간 페이지를 기본 페이지로 하고 URL 가져오기\n",
    "all_window_handles = driver.window_handles\n",
    "main_window_handle = driver.current_window_handle\n",
    "\n",
    "for handle in all_window_handles:\n",
    "    if handle != main_window_handle:\n",
    "        driver.switch_to.window(handle)\n",
    "        break\n",
    "\n",
    "new_url = driver.current_url\n",
    "print(new_url)"
   ]
  },
  {
   "cell_type": "code",
   "execution_count": 293,
   "id": "6730d8dd",
   "metadata": {},
   "outputs": [
    {
     "name": "stdout",
     "output_type": "stream",
     "text": [
      "텍스트 데이터와 표 데이터를 C:/Users/User/Desktop/csv/output.csv 파일로 저장하였습니다.\n"
     ]
    }
   ],
   "source": [
    "# 가져온 URL에서 Div class 'code-content' 안에 있는 내용 가져오기\n",
    "\n",
    "driver.get(new_url)\n",
    "\n",
    "time.sleep(10)\n",
    "\n",
    "div_element = driver.find_element(By.CLASS_NAME, 'code-content')\n",
    "\n",
    "# div 요소 내의 텍스트 추출\n",
    "div_paragraphs = div_element.find_elements(By.TAG_NAME, 'p')\n",
    "\n",
    "# div 요소 내의 표 데이터 추출\n",
    "div_table = div_element.find_element(By.TAG_NAME, 'table')\n",
    "\n",
    "# BeautifulSoup을 사용하여 표 내부 텍스트 추출\n",
    "table_html = div_table.get_attribute('outerHTML')\n",
    "table_soup = BeautifulSoup(table_html, 'html.parser')\n",
    "\n",
    "table_data = []\n",
    "\n",
    "if table_soup:\n",
    "    rows = table_soup.find_all('tr')\n",
    "    \n",
    "    for row in rows:\n",
    "        row_data = []\n",
    "        cells = row.find_all(['th', 'td'])\n",
    "        \n",
    "        for cell in cells:\n",
    "            cell_text = cell.get_text()\n",
    "            row_data.append(cell_text)\n",
    "        \n",
    "        # 현재 행의 데이터를 표 데이터에 추가\n",
    "        table_data.append(row_data)\n",
    "\n",
    "# 텍스트 데이터와 표 데이터를 통합하여 CSV 파일로 저장\n",
    "csv_file_name = 'C:/Users/User/Desktop/csv/output.csv'\n",
    "\n",
    "with open(csv_file_name, 'w', newline='', encoding='utf-8') as csv_file:\n",
    "    csv_writer = csv.writer(csv_file)\n",
    "    \n",
    "    # 각 p 태그의 텍스트 추가\n",
    "    csv_writer.writerow(['Text'])\n",
    "    for paragraph in div_paragraphs:\n",
    "        csv_writer.writerow([paragraph.text])\n",
    "    \n",
    "    # 빈 줄 추가\n",
    "    csv_writer.writerow([])\n",
    "    \n",
    "    # 표 데이터 추가\n",
    "    for row_data in table_data:\n",
    "        csv_writer.writerow(row_data)\n",
    "\n",
    "# 웹 드라이버 종료\n",
    "driver.quit()\n",
    "\n",
    "print(f\"텍스트 데이터와 표 데이터를 {csv_file_name} 파일로 저장하였습니다.\")"
   ]
  },
  {
   "cell_type": "code",
   "execution_count": null,
   "id": "e6d76452",
   "metadata": {},
   "outputs": [],
   "source": []
  }
 ],
 "metadata": {
  "kernelspec": {
   "display_name": "Python 3 (ipykernel)",
   "language": "python",
   "name": "python3"
  },
  "language_info": {
   "codemirror_mode": {
    "name": "ipython",
    "version": 3
   },
   "file_extension": ".py",
   "mimetype": "text/x-python",
   "name": "python",
   "nbconvert_exporter": "python",
   "pygments_lexer": "ipython3",
   "version": "3.10.9"
  }
 },
 "nbformat": 4,
 "nbformat_minor": 5
}
